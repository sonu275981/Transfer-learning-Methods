{
 "cells": [
  {
   "cell_type": "code",
   "execution_count": 1,
   "id": "ed4c78b9",
   "metadata": {},
   "outputs": [],
   "source": [
    "from keras.preprocessing import image\n",
    "from keras.preprocessing.image import ImageDataGenerator,load_img\n",
    "import matplotlib.pyplot as plt\n",
    "from keras.models import Sequential\n",
    "from keras.layers import Conv2D, MaxPooling2D\n",
    "from keras.layers import Activation, Dropout, Flatten, Dense\n",
    "import PIL"
   ]
  },
  {
   "cell_type": "code",
   "execution_count": 2,
   "id": "93b79191",
   "metadata": {},
   "outputs": [],
   "source": [
    "from tensorflow.keras.applications.vgg16 import VGG16,preprocess_input,decode_predictions\n",
    "from tensorflow.keras.preprocessing import image\n",
    "import numpy as np\n",
    "import cv2\n",
    "import os\n",
    "import random\n",
    "import matplotlib.pyplot as plt\n",
    "from sklearn.preprocessing import LabelBinarizer\n",
    "from tensorflow.keras.utils import to_categorical\n",
    "from imutils import paths\n",
    "from sklearn.model_selection import train_test_split\n",
    "from keras.preprocessing.image import load_img\n",
    "from tensorflow.keras.layers import Reshape "
   ]
  },
  {
   "cell_type": "code",
   "execution_count": 3,
   "id": "f06b1651",
   "metadata": {},
   "outputs": [],
   "source": [
    "test = r'C:\\Users\\sonuc\\Desktop\\Data_Science\\Dog and cat - Data_Augmentation\\test'\n",
    "train = r'C:\\Users\\sonuc\\Desktop\\Data_Science\\Dog and cat - Data_Augmentation\\train'"
   ]
  },
  {
   "cell_type": "code",
   "execution_count": 4,
   "id": "43bfe4ba",
   "metadata": {},
   "outputs": [],
   "source": [
    "tra = VGG16()"
   ]
  },
  {
   "cell_type": "code",
   "execution_count": 5,
   "id": "899aff7f",
   "metadata": {},
   "outputs": [
    {
     "name": "stdout",
     "output_type": "stream",
     "text": [
      "Model: \"vgg16\"\n",
      "_________________________________________________________________\n",
      "Layer (type)                 Output Shape              Param #   \n",
      "=================================================================\n",
      "input_1 (InputLayer)         [(None, 224, 224, 3)]     0         \n",
      "_________________________________________________________________\n",
      "block1_conv1 (Conv2D)        (None, 224, 224, 64)      1792      \n",
      "_________________________________________________________________\n",
      "block1_conv2 (Conv2D)        (None, 224, 224, 64)      36928     \n",
      "_________________________________________________________________\n",
      "block1_pool (MaxPooling2D)   (None, 112, 112, 64)      0         \n",
      "_________________________________________________________________\n",
      "block2_conv1 (Conv2D)        (None, 112, 112, 128)     73856     \n",
      "_________________________________________________________________\n",
      "block2_conv2 (Conv2D)        (None, 112, 112, 128)     147584    \n",
      "_________________________________________________________________\n",
      "block2_pool (MaxPooling2D)   (None, 56, 56, 128)       0         \n",
      "_________________________________________________________________\n",
      "block3_conv1 (Conv2D)        (None, 56, 56, 256)       295168    \n",
      "_________________________________________________________________\n",
      "block3_conv2 (Conv2D)        (None, 56, 56, 256)       590080    \n",
      "_________________________________________________________________\n",
      "block3_conv3 (Conv2D)        (None, 56, 56, 256)       590080    \n",
      "_________________________________________________________________\n",
      "block3_pool (MaxPooling2D)   (None, 28, 28, 256)       0         \n",
      "_________________________________________________________________\n",
      "block4_conv1 (Conv2D)        (None, 28, 28, 512)       1180160   \n",
      "_________________________________________________________________\n",
      "block4_conv2 (Conv2D)        (None, 28, 28, 512)       2359808   \n",
      "_________________________________________________________________\n",
      "block4_conv3 (Conv2D)        (None, 28, 28, 512)       2359808   \n",
      "_________________________________________________________________\n",
      "block4_pool (MaxPooling2D)   (None, 14, 14, 512)       0         \n",
      "_________________________________________________________________\n",
      "block5_conv1 (Conv2D)        (None, 14, 14, 512)       2359808   \n",
      "_________________________________________________________________\n",
      "block5_conv2 (Conv2D)        (None, 14, 14, 512)       2359808   \n",
      "_________________________________________________________________\n",
      "block5_conv3 (Conv2D)        (None, 14, 14, 512)       2359808   \n",
      "_________________________________________________________________\n",
      "block5_pool (MaxPooling2D)   (None, 7, 7, 512)         0         \n",
      "_________________________________________________________________\n",
      "flatten (Flatten)            (None, 25088)             0         \n",
      "_________________________________________________________________\n",
      "fc1 (Dense)                  (None, 4096)              102764544 \n",
      "_________________________________________________________________\n",
      "fc2 (Dense)                  (None, 4096)              16781312  \n",
      "_________________________________________________________________\n",
      "predictions (Dense)          (None, 1000)              4097000   \n",
      "=================================================================\n",
      "Total params: 138,357,544\n",
      "Trainable params: 138,357,544\n",
      "Non-trainable params: 0\n",
      "_________________________________________________________________\n"
     ]
    }
   ],
   "source": [
    "tra.summary()"
   ]
  },
  {
   "cell_type": "markdown",
   "id": "ac9cdf85",
   "metadata": {},
   "source": [
    "As we know from above Vgg16 is functional model and to cut the model last layer and than \n",
    "\n",
    "adding its whole layer to our last layer we need to convert it to Sequential model"
   ]
  },
  {
   "cell_type": "markdown",
   "id": "5baa3a23",
   "metadata": {},
   "source": [
    "Checking and cutting Vgg16 last layer by running for loop"
   ]
  },
  {
   "cell_type": "code",
   "execution_count": 6,
   "id": "8c44f7a1",
   "metadata": {},
   "outputs": [
    {
     "name": "stdout",
     "output_type": "stream",
     "text": [
      "InputLayer\n",
      "Conv2D\n",
      "Conv2D\n",
      "MaxPooling2D\n",
      "Conv2D\n",
      "Conv2D\n",
      "MaxPooling2D\n",
      "Conv2D\n",
      "Conv2D\n",
      "Conv2D\n",
      "MaxPooling2D\n",
      "Conv2D\n",
      "Conv2D\n",
      "Conv2D\n",
      "MaxPooling2D\n",
      "Conv2D\n",
      "Conv2D\n",
      "Conv2D\n",
      "MaxPooling2D\n",
      "Flatten\n",
      "Dense\n",
      "Dense\n"
     ]
    }
   ],
   "source": [
    "for layer in tra.layers[:-1]:\n",
    "    print(layer.__class__.__name__)"
   ]
  },
  {
   "cell_type": "markdown",
   "id": "625c0808",
   "metadata": {},
   "source": [
    "now we can see last layer removed\n",
    "\n",
    "now we removed last layer so we add this to our sequential layer for ladding our last layer\n",
    "\n",
    "same as we added earlier in our sequential layer but this we add ready made layer with our last layer made by us"
   ]
  },
  {
   "cell_type": "code",
   "execution_count": 7,
   "id": "3e8fdbf8",
   "metadata": {},
   "outputs": [],
   "source": [
    "model = Sequential()"
   ]
  },
  {
   "cell_type": "code",
   "execution_count": 8,
   "id": "f38e35c0",
   "metadata": {},
   "outputs": [],
   "source": [
    "for layer in tra.layers[:-1]:\n",
    "    model.add(layer)"
   ]
  },
  {
   "cell_type": "code",
   "execution_count": 9,
   "id": "9a236119",
   "metadata": {},
   "outputs": [
    {
     "name": "stdout",
     "output_type": "stream",
     "text": [
      "Model: \"sequential\"\n",
      "_________________________________________________________________\n",
      "Layer (type)                 Output Shape              Param #   \n",
      "=================================================================\n",
      "block1_conv1 (Conv2D)        (None, 224, 224, 64)      1792      \n",
      "_________________________________________________________________\n",
      "block1_conv2 (Conv2D)        (None, 224, 224, 64)      36928     \n",
      "_________________________________________________________________\n",
      "block1_pool (MaxPooling2D)   (None, 112, 112, 64)      0         \n",
      "_________________________________________________________________\n",
      "block2_conv1 (Conv2D)        (None, 112, 112, 128)     73856     \n",
      "_________________________________________________________________\n",
      "block2_conv2 (Conv2D)        (None, 112, 112, 128)     147584    \n",
      "_________________________________________________________________\n",
      "block2_pool (MaxPooling2D)   (None, 56, 56, 128)       0         \n",
      "_________________________________________________________________\n",
      "block3_conv1 (Conv2D)        (None, 56, 56, 256)       295168    \n",
      "_________________________________________________________________\n",
      "block3_conv2 (Conv2D)        (None, 56, 56, 256)       590080    \n",
      "_________________________________________________________________\n",
      "block3_conv3 (Conv2D)        (None, 56, 56, 256)       590080    \n",
      "_________________________________________________________________\n",
      "block3_pool (MaxPooling2D)   (None, 28, 28, 256)       0         \n",
      "_________________________________________________________________\n",
      "block4_conv1 (Conv2D)        (None, 28, 28, 512)       1180160   \n",
      "_________________________________________________________________\n",
      "block4_conv2 (Conv2D)        (None, 28, 28, 512)       2359808   \n",
      "_________________________________________________________________\n",
      "block4_conv3 (Conv2D)        (None, 28, 28, 512)       2359808   \n",
      "_________________________________________________________________\n",
      "block4_pool (MaxPooling2D)   (None, 14, 14, 512)       0         \n",
      "_________________________________________________________________\n",
      "block5_conv1 (Conv2D)        (None, 14, 14, 512)       2359808   \n",
      "_________________________________________________________________\n",
      "block5_conv2 (Conv2D)        (None, 14, 14, 512)       2359808   \n",
      "_________________________________________________________________\n",
      "block5_conv3 (Conv2D)        (None, 14, 14, 512)       2359808   \n",
      "_________________________________________________________________\n",
      "block5_pool (MaxPooling2D)   (None, 7, 7, 512)         0         \n",
      "_________________________________________________________________\n",
      "flatten (Flatten)            (None, 25088)             0         \n",
      "_________________________________________________________________\n",
      "fc1 (Dense)                  (None, 4096)              102764544 \n",
      "_________________________________________________________________\n",
      "fc2 (Dense)                  (None, 4096)              16781312  \n",
      "=================================================================\n",
      "Total params: 134,260,544\n",
      "Trainable params: 134,260,544\n",
      "Non-trainable params: 0\n",
      "_________________________________________________________________\n"
     ]
    }
   ],
   "source": [
    "model.summary()"
   ]
  },
  {
   "cell_type": "markdown",
   "id": "20159d39",
   "metadata": {},
   "source": [
    "now we can see last layer removed\n"
   ]
  },
  {
   "cell_type": "markdown",
   "id": "84421ef6",
   "metadata": {},
   "source": [
    "now we will freeze our layers because we don't want to change the weight durning backpropagation of our reday made layer(vgg16) we added"
   ]
  },
  {
   "cell_type": "code",
   "execution_count": 10,
   "id": "acfa2b03",
   "metadata": {},
   "outputs": [],
   "source": [
    "# freezing all layers\n",
    "for layer in model.layers:\n",
    "    layer.trainable = False"
   ]
  },
  {
   "cell_type": "code",
   "execution_count": 11,
   "id": "d7df60ea",
   "metadata": {},
   "outputs": [
    {
     "name": "stdout",
     "output_type": "stream",
     "text": [
      "Model: \"sequential\"\n",
      "_________________________________________________________________\n",
      "Layer (type)                 Output Shape              Param #   \n",
      "=================================================================\n",
      "block1_conv1 (Conv2D)        (None, 224, 224, 64)      1792      \n",
      "_________________________________________________________________\n",
      "block1_conv2 (Conv2D)        (None, 224, 224, 64)      36928     \n",
      "_________________________________________________________________\n",
      "block1_pool (MaxPooling2D)   (None, 112, 112, 64)      0         \n",
      "_________________________________________________________________\n",
      "block2_conv1 (Conv2D)        (None, 112, 112, 128)     73856     \n",
      "_________________________________________________________________\n",
      "block2_conv2 (Conv2D)        (None, 112, 112, 128)     147584    \n",
      "_________________________________________________________________\n",
      "block2_pool (MaxPooling2D)   (None, 56, 56, 128)       0         \n",
      "_________________________________________________________________\n",
      "block3_conv1 (Conv2D)        (None, 56, 56, 256)       295168    \n",
      "_________________________________________________________________\n",
      "block3_conv2 (Conv2D)        (None, 56, 56, 256)       590080    \n",
      "_________________________________________________________________\n",
      "block3_conv3 (Conv2D)        (None, 56, 56, 256)       590080    \n",
      "_________________________________________________________________\n",
      "block3_pool (MaxPooling2D)   (None, 28, 28, 256)       0         \n",
      "_________________________________________________________________\n",
      "block4_conv1 (Conv2D)        (None, 28, 28, 512)       1180160   \n",
      "_________________________________________________________________\n",
      "block4_conv2 (Conv2D)        (None, 28, 28, 512)       2359808   \n",
      "_________________________________________________________________\n",
      "block4_conv3 (Conv2D)        (None, 28, 28, 512)       2359808   \n",
      "_________________________________________________________________\n",
      "block4_pool (MaxPooling2D)   (None, 14, 14, 512)       0         \n",
      "_________________________________________________________________\n",
      "block5_conv1 (Conv2D)        (None, 14, 14, 512)       2359808   \n",
      "_________________________________________________________________\n",
      "block5_conv2 (Conv2D)        (None, 14, 14, 512)       2359808   \n",
      "_________________________________________________________________\n",
      "block5_conv3 (Conv2D)        (None, 14, 14, 512)       2359808   \n",
      "_________________________________________________________________\n",
      "block5_pool (MaxPooling2D)   (None, 7, 7, 512)         0         \n",
      "_________________________________________________________________\n",
      "flatten (Flatten)            (None, 25088)             0         \n",
      "_________________________________________________________________\n",
      "fc1 (Dense)                  (None, 4096)              102764544 \n",
      "_________________________________________________________________\n",
      "fc2 (Dense)                  (None, 4096)              16781312  \n",
      "=================================================================\n",
      "Total params: 134,260,544\n",
      "Trainable params: 0\n",
      "Non-trainable params: 134,260,544\n",
      "_________________________________________________________________\n"
     ]
    }
   ],
   "source": [
    "model.summary()"
   ]
  },
  {
   "cell_type": "markdown",
   "id": "0829db23",
   "metadata": {},
   "source": [
    "As we can now see there is no trainable parameters in model summary"
   ]
  },
  {
   "cell_type": "markdown",
   "id": "bf5d3df9",
   "metadata": {},
   "source": [
    "Adding last dense layer with only one node"
   ]
  },
  {
   "cell_type": "code",
   "execution_count": 12,
   "id": "b41e5e17",
   "metadata": {},
   "outputs": [],
   "source": [
    "model.add(Dense(1, activation ='sigmoid'))"
   ]
  },
  {
   "cell_type": "markdown",
   "id": "7b46aef1",
   "metadata": {},
   "source": [
    "Afer adding one node dense layer we again check model summary and than we train the trainable parameter"
   ]
  },
  {
   "cell_type": "code",
   "execution_count": 13,
   "id": "c7302a55",
   "metadata": {},
   "outputs": [
    {
     "name": "stdout",
     "output_type": "stream",
     "text": [
      "Model: \"sequential\"\n",
      "_________________________________________________________________\n",
      "Layer (type)                 Output Shape              Param #   \n",
      "=================================================================\n",
      "block1_conv1 (Conv2D)        (None, 224, 224, 64)      1792      \n",
      "_________________________________________________________________\n",
      "block1_conv2 (Conv2D)        (None, 224, 224, 64)      36928     \n",
      "_________________________________________________________________\n",
      "block1_pool (MaxPooling2D)   (None, 112, 112, 64)      0         \n",
      "_________________________________________________________________\n",
      "block2_conv1 (Conv2D)        (None, 112, 112, 128)     73856     \n",
      "_________________________________________________________________\n",
      "block2_conv2 (Conv2D)        (None, 112, 112, 128)     147584    \n",
      "_________________________________________________________________\n",
      "block2_pool (MaxPooling2D)   (None, 56, 56, 128)       0         \n",
      "_________________________________________________________________\n",
      "block3_conv1 (Conv2D)        (None, 56, 56, 256)       295168    \n",
      "_________________________________________________________________\n",
      "block3_conv2 (Conv2D)        (None, 56, 56, 256)       590080    \n",
      "_________________________________________________________________\n",
      "block3_conv3 (Conv2D)        (None, 56, 56, 256)       590080    \n",
      "_________________________________________________________________\n",
      "block3_pool (MaxPooling2D)   (None, 28, 28, 256)       0         \n",
      "_________________________________________________________________\n",
      "block4_conv1 (Conv2D)        (None, 28, 28, 512)       1180160   \n",
      "_________________________________________________________________\n",
      "block4_conv2 (Conv2D)        (None, 28, 28, 512)       2359808   \n",
      "_________________________________________________________________\n",
      "block4_conv3 (Conv2D)        (None, 28, 28, 512)       2359808   \n",
      "_________________________________________________________________\n",
      "block4_pool (MaxPooling2D)   (None, 14, 14, 512)       0         \n",
      "_________________________________________________________________\n",
      "block5_conv1 (Conv2D)        (None, 14, 14, 512)       2359808   \n",
      "_________________________________________________________________\n",
      "block5_conv2 (Conv2D)        (None, 14, 14, 512)       2359808   \n",
      "_________________________________________________________________\n",
      "block5_conv3 (Conv2D)        (None, 14, 14, 512)       2359808   \n",
      "_________________________________________________________________\n",
      "block5_pool (MaxPooling2D)   (None, 7, 7, 512)         0         \n",
      "_________________________________________________________________\n",
      "flatten (Flatten)            (None, 25088)             0         \n",
      "_________________________________________________________________\n",
      "fc1 (Dense)                  (None, 4096)              102764544 \n",
      "_________________________________________________________________\n",
      "fc2 (Dense)                  (None, 4096)              16781312  \n",
      "_________________________________________________________________\n",
      "dense (Dense)                (None, 1)                 4097      \n",
      "=================================================================\n",
      "Total params: 134,264,641\n",
      "Trainable params: 4,097\n",
      "Non-trainable params: 134,260,544\n",
      "_________________________________________________________________\n"
     ]
    }
   ],
   "source": [
    "model.summary()"
   ]
  },
  {
   "cell_type": "code",
   "execution_count": 14,
   "id": "412dd9e3",
   "metadata": {},
   "outputs": [],
   "source": [
    "model.compile(loss='binary_crossentropy',\n",
    "              optimizer='Adam',\n",
    "              metrics=['accuracy'])"
   ]
  },
  {
   "cell_type": "code",
   "execution_count": 15,
   "id": "7f8543cd",
   "metadata": {},
   "outputs": [
    {
     "name": "stdout",
     "output_type": "stream",
     "text": [
      "Found 4000 images belonging to 2 classes.\n",
      "Found 1600 images belonging to 2 classes.\n"
     ]
    }
   ],
   "source": [
    "batch_size = 16\n",
    "\n",
    "# this is the augmentation configuration we will use for training\n",
    "train_datagen = ImageDataGenerator(\n",
    "        rescale=1./255,\n",
    "        shear_range=0.2,\n",
    "        zoom_range=0.2,\n",
    "        horizontal_flip=True)\n",
    "\n",
    "# this is the augmentation configuration we will use for testing:\n",
    "# only rescaling\n",
    "test_datagen = ImageDataGenerator(rescale=1./255)\n",
    "\n",
    "# this is a generator that will read pictures found in\n",
    "# subfolers of 'data/train', and indefinitely generate\n",
    "# batches of augmented image data\n",
    "train_generator = train_datagen.flow_from_directory(\n",
    "        train,  # this is the target directory\n",
    "        target_size=(224, 224),  # all images will be resized to 150x150\n",
    "        batch_size=batch_size,\n",
    "        class_mode='binary')  # since we use binary_crossentropy loss, we need binary labels\n",
    "\n",
    "# this is a similar generator, for validation data\n",
    "validation_generator = test_datagen.flow_from_directory(\n",
    "        test,\n",
    "        target_size=(224, 224),\n",
    "        batch_size=batch_size,\n",
    "        class_mode='binary')"
   ]
  },
  {
   "cell_type": "code",
   "execution_count": 16,
   "id": "6c489ee7",
   "metadata": {},
   "outputs": [
    {
     "name": "stdout",
     "output_type": "stream",
     "text": [
      "Epoch 1/50\n",
      "125/125 [==============================] - 34s 216ms/step - loss: 0.5513 - accuracy: 0.7105 - val_loss: 0.3887 - val_accuracy: 0.8650\n",
      "Epoch 2/50\n",
      "125/125 [==============================] - 27s 213ms/step - loss: 0.4415 - accuracy: 0.7930 - val_loss: 0.5739 - val_accuracy: 0.6575\n",
      "Epoch 3/50\n",
      "125/125 [==============================] - 27s 215ms/step - loss: 0.3658 - accuracy: 0.8345 - val_loss: 0.3282 - val_accuracy: 0.8575\n",
      "Epoch 4/50\n",
      "125/125 [==============================] - 27s 219ms/step - loss: 0.3559 - accuracy: 0.8485 - val_loss: 0.2746 - val_accuracy: 0.9000\n",
      "Epoch 5/50\n",
      "125/125 [==============================] - 27s 218ms/step - loss: 0.3314 - accuracy: 0.8555 - val_loss: 0.2732 - val_accuracy: 0.8900\n",
      "Epoch 6/50\n",
      "125/125 [==============================] - 27s 217ms/step - loss: 0.3269 - accuracy: 0.8630 - val_loss: 0.2593 - val_accuracy: 0.8938\n",
      "Epoch 7/50\n",
      "125/125 [==============================] - 27s 218ms/step - loss: 0.3085 - accuracy: 0.8740 - val_loss: 0.3688 - val_accuracy: 0.8087\n",
      "Epoch 8/50\n",
      "125/125 [==============================] - 27s 219ms/step - loss: 0.3288 - accuracy: 0.8530 - val_loss: 0.2721 - val_accuracy: 0.8838\n",
      "Epoch 9/50\n",
      "125/125 [==============================] - 27s 218ms/step - loss: 0.3134 - accuracy: 0.8565 - val_loss: 0.2556 - val_accuracy: 0.8938\n",
      "Epoch 10/50\n",
      "125/125 [==============================] - 27s 218ms/step - loss: 0.2937 - accuracy: 0.8735 - val_loss: 0.3073 - val_accuracy: 0.8587\n",
      "Epoch 11/50\n",
      "125/125 [==============================] - 31s 244ms/step - loss: 0.2819 - accuracy: 0.8795 - val_loss: 0.2525 - val_accuracy: 0.8975\n",
      "Epoch 12/50\n",
      "125/125 [==============================] - 30s 243ms/step - loss: 0.2969 - accuracy: 0.8665 - val_loss: 0.2396 - val_accuracy: 0.8925\n",
      "Epoch 13/50\n",
      "125/125 [==============================] - 31s 245ms/step - loss: 0.2790 - accuracy: 0.8820 - val_loss: 0.2417 - val_accuracy: 0.9050\n",
      "Epoch 14/50\n",
      "125/125 [==============================] - 34s 270ms/step - loss: 0.2847 - accuracy: 0.8735 - val_loss: 0.2351 - val_accuracy: 0.9000\n",
      "Epoch 15/50\n",
      "125/125 [==============================] - 33s 263ms/step - loss: 0.2948 - accuracy: 0.8670 - val_loss: 0.2364 - val_accuracy: 0.8950\n",
      "Epoch 16/50\n",
      "125/125 [==============================] - 31s 245ms/step - loss: 0.2891 - accuracy: 0.8710 - val_loss: 0.3187 - val_accuracy: 0.8475\n",
      "Epoch 17/50\n",
      "125/125 [==============================] - 34s 271ms/step - loss: 0.3041 - accuracy: 0.8610 - val_loss: 0.2214 - val_accuracy: 0.9125\n",
      "Epoch 18/50\n",
      "125/125 [==============================] - 31s 245ms/step - loss: 0.2742 - accuracy: 0.8830 - val_loss: 0.2317 - val_accuracy: 0.9000\n",
      "Epoch 19/50\n",
      "125/125 [==============================] - 31s 245ms/step - loss: 0.2991 - accuracy: 0.8755 - val_loss: 0.2485 - val_accuracy: 0.9050\n",
      "Epoch 20/50\n",
      "125/125 [==============================] - 31s 246ms/step - loss: 0.2847 - accuracy: 0.8780 - val_loss: 0.2165 - val_accuracy: 0.9100\n",
      "Epoch 21/50\n",
      "125/125 [==============================] - 34s 272ms/step - loss: 0.2552 - accuracy: 0.8890 - val_loss: 0.2264 - val_accuracy: 0.9150\n",
      "Epoch 22/50\n",
      "125/125 [==============================] - 34s 272ms/step - loss: 0.2496 - accuracy: 0.8920 - val_loss: 0.2114 - val_accuracy: 0.9250\n",
      "Epoch 23/50\n",
      "125/125 [==============================] - 31s 245ms/step - loss: 0.2516 - accuracy: 0.8920 - val_loss: 0.2326 - val_accuracy: 0.9038\n",
      "Epoch 24/50\n",
      "125/125 [==============================] - 34s 273ms/step - loss: 0.2432 - accuracy: 0.9025 - val_loss: 0.2203 - val_accuracy: 0.9187\n",
      "Epoch 25/50\n",
      "125/125 [==============================] - 31s 245ms/step - loss: 0.2720 - accuracy: 0.8880 - val_loss: 0.2267 - val_accuracy: 0.9137\n",
      "Epoch 26/50\n",
      "125/125 [==============================] - 34s 272ms/step - loss: 0.2622 - accuracy: 0.8845 - val_loss: 0.1927 - val_accuracy: 0.9300\n",
      "Epoch 27/50\n",
      "125/125 [==============================] - 34s 271ms/step - loss: 0.2591 - accuracy: 0.8840 - val_loss: 0.2355 - val_accuracy: 0.9150\n",
      "Epoch 28/50\n",
      "125/125 [==============================] - 34s 273ms/step - loss: 0.2604 - accuracy: 0.8845 - val_loss: 0.2837 - val_accuracy: 0.8737\n",
      "Epoch 29/50\n",
      "125/125 [==============================] - 34s 273ms/step - loss: 0.2573 - accuracy: 0.8895 - val_loss: 0.2158 - val_accuracy: 0.8963\n",
      "Epoch 30/50\n",
      "125/125 [==============================] - 34s 274ms/step - loss: 0.2530 - accuracy: 0.8955 - val_loss: 0.2139 - val_accuracy: 0.9125\n",
      "Epoch 31/50\n",
      "125/125 [==============================] - 34s 273ms/step - loss: 0.2589 - accuracy: 0.8925 - val_loss: 0.2310 - val_accuracy: 0.9000\n",
      "Epoch 32/50\n",
      "125/125 [==============================] - 34s 272ms/step - loss: 0.2367 - accuracy: 0.8990 - val_loss: 0.2736 - val_accuracy: 0.8775\n",
      "Epoch 33/50\n",
      "125/125 [==============================] - 37s 299ms/step - loss: 0.2354 - accuracy: 0.8970 - val_loss: 0.2014 - val_accuracy: 0.9212\n",
      "Epoch 34/50\n",
      "125/125 [==============================] - 31s 245ms/step - loss: 0.2283 - accuracy: 0.9055 - val_loss: 0.2272 - val_accuracy: 0.9100\n",
      "Epoch 35/50\n",
      "125/125 [==============================] - 34s 272ms/step - loss: 0.2387 - accuracy: 0.8970 - val_loss: 0.2237 - val_accuracy: 0.9150\n",
      "Epoch 36/50\n",
      "125/125 [==============================] - 34s 272ms/step - loss: 0.2313 - accuracy: 0.9020 - val_loss: 0.2092 - val_accuracy: 0.9200\n",
      "Epoch 37/50\n",
      "125/125 [==============================] - 36s 290ms/step - loss: 0.2468 - accuracy: 0.8935 - val_loss: 0.2194 - val_accuracy: 0.9175\n",
      "Epoch 38/50\n",
      "125/125 [==============================] - 31s 245ms/step - loss: 0.2320 - accuracy: 0.9040 - val_loss: 0.2792 - val_accuracy: 0.8838\n",
      "Epoch 39/50\n",
      "125/125 [==============================] - 34s 271ms/step - loss: 0.2298 - accuracy: 0.8940 - val_loss: 0.2225 - val_accuracy: 0.9100\n",
      "Epoch 40/50\n",
      "125/125 [==============================] - 34s 272ms/step - loss: 0.2604 - accuracy: 0.8810 - val_loss: 0.2176 - val_accuracy: 0.9013\n",
      "Epoch 41/50\n",
      "125/125 [==============================] - 34s 272ms/step - loss: 0.2328 - accuracy: 0.8950 - val_loss: 0.2213 - val_accuracy: 0.8988\n",
      "Epoch 42/50\n",
      "125/125 [==============================] - 34s 272ms/step - loss: 0.2369 - accuracy: 0.8965 - val_loss: 0.2157 - val_accuracy: 0.9137\n",
      "Epoch 43/50\n",
      "125/125 [==============================] - 34s 273ms/step - loss: 0.2422 - accuracy: 0.8920 - val_loss: 0.2272 - val_accuracy: 0.8988\n",
      "Epoch 44/50\n",
      "125/125 [==============================] - 37s 299ms/step - loss: 0.2200 - accuracy: 0.9015 - val_loss: 0.2102 - val_accuracy: 0.9162\n",
      "Epoch 45/50\n",
      "125/125 [==============================] - 31s 245ms/step - loss: 0.2407 - accuracy: 0.8965 - val_loss: 0.1935 - val_accuracy: 0.9187\n",
      "Epoch 46/50\n",
      "125/125 [==============================] - 34s 273ms/step - loss: 0.2249 - accuracy: 0.9065 - val_loss: 0.2236 - val_accuracy: 0.9112\n",
      "Epoch 47/50\n",
      "125/125 [==============================] - 34s 274ms/step - loss: 0.2305 - accuracy: 0.8985 - val_loss: 0.2792 - val_accuracy: 0.8750\n",
      "Epoch 48/50\n",
      "125/125 [==============================] - 31s 248ms/step - loss: 0.2236 - accuracy: 0.9020 - val_loss: 0.2017 - val_accuracy: 0.9125\n",
      "Epoch 49/50\n",
      "125/125 [==============================] - 34s 271ms/step - loss: 0.2434 - accuracy: 0.9015 - val_loss: 0.2326 - val_accuracy: 0.9087\n",
      "Epoch 50/50\n",
      "125/125 [==============================] - 34s 271ms/step - loss: 0.2375 - accuracy: 0.8990 - val_loss: 0.2597 - val_accuracy: 0.8875\n"
     ]
    }
   ],
   "source": [
    "model.fit(\n",
    "        train_generator,\n",
    "        steps_per_epoch=2000 // batch_size,\n",
    "        epochs=50,\n",
    "        validation_data=validation_generator,\n",
    "        validation_steps=800 // batch_size)\n",
    "model.save('first_try.h5')  # always save your weights after training or during training"
   ]
  },
  {
   "cell_type": "code",
   "execution_count": null,
   "id": "f912931e",
   "metadata": {},
   "outputs": [],
   "source": []
  },
  {
   "cell_type": "code",
   "execution_count": null,
   "id": "13cef12b",
   "metadata": {},
   "outputs": [],
   "source": []
  }
 ],
 "metadata": {
  "kernelspec": {
   "display_name": "Python 3",
   "language": "python",
   "name": "python3"
  },
  "language_info": {
   "codemirror_mode": {
    "name": "ipython",
    "version": 3
   },
   "file_extension": ".py",
   "mimetype": "text/x-python",
   "name": "python",
   "nbconvert_exporter": "python",
   "pygments_lexer": "ipython3",
   "version": "3.8.8"
  }
 },
 "nbformat": 4,
 "nbformat_minor": 5
}
